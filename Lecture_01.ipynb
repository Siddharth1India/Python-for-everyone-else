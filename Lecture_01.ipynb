{
 "cells": [
  {
   "attachments": {},
   "cell_type": "markdown",
   "metadata": {},
   "source": [
    "# 🐍 Introduction to Python\n",
    "In this repo, I will be explaining stuff in basic theory and more code approach but first, let's understand basic programming."
   ]
  },
  {
   "attachments": {},
   "cell_type": "markdown",
   "metadata": {},
   "source": [
    "## 💻 What is programming in layman's terms❓ \n",
    "Programming is like giving instructions to a computer to perform a task. Just like how we give instructions to our friends or family members, we give instructions to a computer using a special language that it understands. This language is called a programming language, and it allows us to communicate with the computer and tell it what to do.\n",
    "\n",
    "Think of a programming language as a set of rules or guidelines that we follow to write code, which is a series of instructions for the computer to execute. These instructions can be as simple as adding two numbers together or as complex as creating a website or a video game.\n",
    "\n",
    "Programming is like solving a puzzle or building with blocks. We use different tools and techniques to create a sequence of instructions that the computer can understand and follow. These instructions can be combined in various ways to create different outcomes or achieve specific goals.\n",
    "\n",
    "Programming is an essential skill in today's technology-driven world, as it allows us to create software applications, websites, and other digital tools that make our lives easier and more convenient. It's like having a superpower that enables us to create and shape the digital world around us!\n",
    "\n",
    "In summary, programming is the process of giving instructions to a computer using a programming language to create software applications or other digital tools. It involves using a set of rules or guidelines to write code, which is a series of instructions that the computer can understand and execute."
   ]
  },
  {
   "attachments": {},
   "cell_type": "markdown",
   "metadata": {},
   "source": [
    "## 📚 But why should I learn programming❓\n",
    "<img src='./static/python_img1.jpg' width='50%'><br><br>\n",
    "Below are the reasons listed by GPT when asked `why one should learn programming?`.\n",
    "1. Problem-solving skills <br>\n",
    "Programming involves breaking down complex problems into smaller, more manageable tasks, and then solving them step by step. Learning programming helps develop critical thinking, logical reasoning, and creative problem-solving skills that are valuable not only in programming but also in many other areas of life.\n",
    "\n",
    "2. Career opportunities <br>\n",
    "Programming is in high demand across various industries, including software development, web development, data science, artificial intelligence, cybersecurity, and many more. Learning programming opens up a wide range of career opportunities and can boost your employability in today's competitive job market.\n",
    "\n",
    "3. Creativity and innovation <br>\n",
    "Programming allows you to create your own software applications, websites, games, and other digital tools. It provides you with the ability to turn your ideas into reality, and gives you a platform for expressing your creativity and innovating new solutions to real-world problems.\n",
    "\n",
    "4. Automation and efficiency <br>\n",
    "Programming enables you to automate repetitive tasks, streamline processes, and increase efficiency. By writing code to perform routine tasks, you can save time and effort, and optimize workflows in various domains, such as data analysis, finance, marketing, and more.\n",
    "\n",
    "5. Technology literacy <br>\n",
    "Programming is an essential skill for understanding and working with modern technology. As technology continues to evolve rapidly, knowing how to program gives you a solid foundation for understanding and adapting to new technologies, and staying relevant in the digital age.\n",
    "\n",
    "6. Personal empowerment <br>\n",
    "Learning programming empowers you with the ability to create, innovate, and make a positive impact on the world around you. It gives you the confidence to tackle challenges, solve problems, and achieve your goals, both personally and professionally.\n",
    "\n",
    "7. Lifelong learning <br>\n",
    "Programming is a constantly evolving field, and learning programming is a lifelong journey. It encourages a growth mindset and fosters continuous learning, adaptability, and resilience, which are essential skills in today's fast-paced and ever-changing world.\n",
    "\n",
    "In summary, learning programming offers a multitude of benefits, including improved problem-solving skills, increased career opportunities, opportunities for creativity and innovation, automation and efficiency, enhanced technology literacy, personal empowerment, and a mindset for lifelong learning. It's a valuable skill that can open doors and empower you in numerous ways, both in your professional and personal life."
   ]
  },
  {
   "attachments": {},
   "cell_type": "markdown",
   "metadata": {},
   "source": [
    "## 🐍 What is Python and 🤔 why it is good for beginners❓\n",
    "Let's make clear statement first, you can start with any language of your choice as long as language is popular because popular languages have big enough community to solve your doubts and good amount of resources to understand and learn things. Python is just language of my choice and that is the reason of this repo.\n",
    "\n",
    "Python is a popular, high-level, interpreted programming language that is widely used for a variety of applications, including web development, scientific computing, data analysis, machine learning, artificial intelligence, and more. Python is known for its simplicity, readability, and versatility, which makes it an excellent choice for beginners who are new to programming. Here are some reasons why Python is considered a great language for beginners:\n",
    "\n",
    "1. 🐥 Easy to read and write\n",
    "Python has a clean and easy-to-understand syntax that resembles human language, making it highly readable and writable. Python's simple and concise syntax allows beginners to write code that is easy to understand and debug, making it an ideal language for learning the fundamentals of programming.\n",
    "\n",
    "2. 👨‍🏫 Large and supportive community\n",
    "Python has a large and active community of developers who contribute to its development and provide extensive documentation, tutorials, and resources. This community-driven aspect of Python makes it beginner-friendly, as there are ample resources available for learning, troubleshooting, and getting help.\n",
    "\n",
    "3. 📚 Extensive libraries and frameworks\n",
    "Python has a rich ecosystem of libraries and frameworks that provide ready-to-use solutions for common tasks, such as data manipulation, web development, scientific computing, and machine learning. These libraries and frameworks simplify the coding process and enable beginners to build complex applications without starting from scratch.\n",
    "\n",
    "4. 🔨 Versatility and wide range of applications\n",
    "Python is a versatile language that can be used for a wide range of applications, from simple scripts to complex applications. Python is widely used in various domains, including web development, data science, scientific computing, artificial intelligence, machine learning, and more, making it a versatile language that offers ample opportunities for beginners to explore and apply their programming skills.\n",
    "\n",
    "5. 🤝 Strong community support and job opportunities\n",
    "Python has a strong community support and a vast job market. Python is one of the most in-demand programming languages in the job market, with ample job opportunities in various industries. Learning Python can open doors to a wide range of career opportunities, making it a lucrative choice for beginners who are looking to start a career in programming.\n",
    "\n",
    "6. ⏩ Quick feedback loop\n",
    "Python's interpreter allows beginners to quickly see the results of their code, making the learning process more interactive and engaging. Python's dynamic nature and interactive interpreter allow beginners to experiment and learn in a more hands-on manner, which can accelerate the learning process.\n",
    "\n",
    "7. 👨‍🎓 Beginner-friendly development environments\n",
    "Python has several beginner-friendly development environments, such as IDLE (Python's built-in IDE), Jupyter Notebooks, and PyCharm, which provide a user-friendly interface for writing, running, and debugging Python code. These environments make it easier for beginners to get started with coding and develop their programming skills.\n",
    "\n",
    "In summary, Python is an excellent choice for beginners due to its easy-to-read syntax, extensive community support, vast library ecosystem, versatility, wide range of applications, strong job market, quick feedback loop, and beginner-friendly development environments. Python's simplicity, readability, and versatility make it a great language for beginners to learn and start their journey into the world of programming."
   ]
  },
  {
   "attachments": {},
   "cell_type": "markdown",
   "metadata": {},
   "source": [
    "> **__NOTE__**: If you are beginner, don't worry about setting up local environment for Python programming. Just head to [Google Colab](https://colab.research.google.com), create new notebook and start writing code. "
   ]
  },
  {
   "attachments": {},
   "cell_type": "markdown",
   "metadata": {},
   "source": [
    "## Basics of Python\n",
    "### First code\n",
    "\n",
    "We will follow treditional method of learning how to program by writing our first very simple program which prints `Hello, World!` on screen."
   ]
  },
  {
   "attachments": {},
   "cell_type": "markdown",
   "metadata": {},
   "source": [
    "> **__NOTE__**: Before you start writing code, do remember, you cannot learn coding by reading, you need to get your hands dirty by writing code so please write as much code as possible."
   ]
  },
  {
   "cell_type": "code",
   "execution_count": 48,
   "metadata": {},
   "outputs": [
    {
     "name": "stdout",
     "output_type": "stream",
     "text": [
      "Hello, World!\n"
     ]
    }
   ],
   "source": [
    "print(\"Hello, World!\")"
   ]
  },
  {
   "attachments": {},
   "cell_type": "markdown",
   "metadata": {},
   "source": [
    "Okay, that was your first program. Seems like it is not doing much, right? Well, most beginners don't understand why we always starts with \"Hello, World!\", but that is standard and you will understand importance of `print` statement once you write enough code."
   ]
  },
  {
   "attachments": {},
   "cell_type": "markdown",
   "metadata": {},
   "source": [
    "### Comments in Python\n",
    "Comments in Python are used to add human-readable explanations or notes to the code that are not executed by the interpreter. They are used to provide documentation, add explanations, or disable specific lines of code temporarily for testing or debugging purposes. Comments are ignored by the Python interpreter and do not affect the execution of the program.\n",
    "\n",
    "In Python, there are two types of comments:\n",
    "\n",
    "1. Single-line comments\n",
    "Single-line comments start with the \"#\" symbol and continue until the end of the line. Anything written after the \"#\" symbol on the same line is considered a comment and is ignored by the interpreter. For example:\n",
    "```\n",
    "# This is a single-line comment in Python\n",
    "print(\"Hello, world!\")\n",
    "```\n",
    "In the above example, the comment \"This is a single-line comment in Python\" is added after the \"#\" symbol, and it does not affect the execution of the \"print\" statement.\n",
    "2. Multi-line comments\n",
    "Multi-line comments, also known as docstrings, are used to write comments that span across multiple lines. Multi-line comments are enclosed in triple quotes (''' or \"\"\") at the beginning and end of the comment block. For example:\n",
    "```\n",
    "\"\"\"\n",
    "This is a multi-line comment in Python\n",
    "It can span across multiple lines\n",
    "\"\"\"\n",
    "print(\"Hello, world!\")\n",
    "\n",
    "```\n",
    "In the above example, the comment \"This is a multi-line comment in Python\" is written within triple quotes and spans across multiple lines. It is ignored by the interpreter and does not affect the execution of the \"print\" statement.\n",
    "\n",
    "Comments are an important part of writing clean and maintainable code. They provide explanations and documentation that can help other programmers understand the code and make it easier to debug and troubleshoot. It is good practice to add comments to your Python code to make it more understandable and maintainable.\n"
   ]
  },
  {
   "cell_type": "code",
   "execution_count": 49,
   "metadata": {},
   "outputs": [
    {
     "name": "stdout",
     "output_type": "stream",
     "text": [
      "Hello, world!\n"
     ]
    }
   ],
   "source": [
    "# This is a single-line comment in Python\n",
    "print(\"Hello, world!\")"
   ]
  },
  {
   "cell_type": "code",
   "execution_count": 50,
   "metadata": {},
   "outputs": [
    {
     "name": "stdout",
     "output_type": "stream",
     "text": [
      "Hello, world!\n"
     ]
    }
   ],
   "source": [
    "\"\"\"\n",
    "This is a multi-line comment in Python\n",
    "It can span across multiple lines\n",
    "\"\"\"\n",
    "print(\"Hello, world!\")\n"
   ]
  },
  {
   "attachments": {},
   "cell_type": "markdown",
   "metadata": {},
   "source": [
    "### Datatypes in Python\n",
    "Let's first see basic idea of datatypes. We will learn about them as we write code. And some of them will be covered in details as per requirements and importance.\n",
    "\n",
    "In Python, a data type refers to the type of value that can be stored in a variable (We will see what is variable in next section, till than, just undersatnd it as same variable we have in mathematics). It specifies the kind of data that a variable can hold, such as numbers, text, or collections of values. Data types in Python determine the operations that can be performed on the values, as well as the memory space required to store the values.\n",
    "\n",
    "While writing code, it is your responsibility as a programmer to use appropriate datatype for each variable. \n",
    "Here, Python does great job for you which many programming languages do not. Data types in Python are dynamically typed, meaning that you do not need to explicitly specify the data type of a variable when declaring it. Python automatically determines the data type based on the value assigned to the variable. For example, if you assign an integer value to a variable, Python automatically recognizes it as an integer data type. This dynamic typing feature makes Python a flexible and powerful language for handling different types of data.\n",
    "\n",
    "##### Basic data types in Python:\n",
    "1. Integer (int): Represents whole numbers without any decimal points.\n",
    "2. Float (float): Represents numbers with decimal points or floating-point numbers.\n",
    "3. Complex: (complex): Represents complex numbers.\n",
    "4. Boolean (bool): Represents either True or False, used for logical operations.\n",
    "5. String (str): Represents a sequence of characters, such as text or words.\n",
    "6. List (list): Represents an ordered collection of items, which can be of any data type.\n",
    "7. Tuple (tuple): Represents an ordered, immutable collection of items, which can be of any data type.\n",
    "8. Set (set): Represents an unordered collection of unique items, used for mathematical set operations.\n",
    "9. Dictionary (dict): Represents a collection of key-value pairs, used for mapping keys to values.\n",
    "\n",
    "Let's see basic example of each of them now. We will learn about string, list, tuple, set and dict in details later. "
   ]
  },
  {
   "cell_type": "code",
   "execution_count": 51,
   "metadata": {},
   "outputs": [
    {
     "name": "stdout",
     "output_type": "stream",
     "text": [
      "10\n",
      "<class 'int'>\n",
      "-5\n",
      "<class 'int'>\n",
      "0\n",
      "<class 'int'>\n"
     ]
    }
   ],
   "source": [
    "# Example of integer data type\n",
    "num1 = 10\n",
    "num2 = -5\n",
    "num3 = 0\n",
    "\n",
    "print(num1)  # Printing the value of num1\n",
    "print(type(num1))  # Printing the data type of num1\n",
    "\n",
    "print(num2)  # Printing the value of num2\n",
    "print(type(num2))  # Printing the data type of num2\n",
    "\n",
    "print(num3)  # Printing the value of num3\n",
    "print(type(num3))  # Printing the data type of num3"
   ]
  },
  {
   "cell_type": "code",
   "execution_count": 52,
   "metadata": {},
   "outputs": [
    {
     "name": "stdout",
     "output_type": "stream",
     "text": [
      "3.14\n",
      "<class 'float'>\n",
      "-2.5\n",
      "<class 'float'>\n",
      "0.0\n",
      "<class 'float'>\n"
     ]
    }
   ],
   "source": [
    "# Example of float data type\n",
    "num1 = 3.14\n",
    "num2 = -2.5\n",
    "num3 = 0.0\n",
    "\n",
    "print(num1)  # Printing the value of num1\n",
    "print(type(num1))  # Printing the data type of num1\n",
    "\n",
    "print(num2)  # Printing the value of num2\n",
    "print(type(num2))  # Printing the data type of num2\n",
    "\n",
    "print(num3)  # Printing the value of num3\n",
    "print(type(num3))  # Printing the data type of num3"
   ]
  },
  {
   "cell_type": "code",
   "execution_count": 53,
   "metadata": {},
   "outputs": [
    {
     "name": "stdout",
     "output_type": "stream",
     "text": [
      "(2+3j)\n",
      "<class 'complex'>\n",
      "(-1.5+2.5j)\n",
      "<class 'complex'>\n",
      "(3+1j)\n",
      "<class 'complex'>\n"
     ]
    }
   ],
   "source": [
    "# Example of complex number data type\n",
    "num1 = 2 + 3j\n",
    "num2 = -1.5 + 2.5j\n",
    "num3 = complex(3, 1)\n",
    "\n",
    "print(num1)  # Printing the value of num1\n",
    "print(type(num1))  # Printing the data type of num1\n",
    "\n",
    "print(num2)  # Printing the value of num2\n",
    "print(type(num2))  # Printing the data type of num2\n",
    "\n",
    "print(num3)  # Printing the value of num3\n",
    "print(type(num3))  # Printing the data type of num3"
   ]
  },
  {
   "cell_type": "code",
   "execution_count": 54,
   "metadata": {},
   "outputs": [
    {
     "name": "stdout",
     "output_type": "stream",
     "text": [
      "True\n",
      "<class 'bool'>\n",
      "False\n",
      "<class 'bool'>\n"
     ]
    }
   ],
   "source": [
    "# Example of boolean data type\n",
    "is_true = True\n",
    "is_false = False\n",
    "\n",
    "print(is_true)  # Printing the value of is_true\n",
    "print(type(is_true))  # Printing the data type of is_true\n",
    "\n",
    "print(is_false)  # Printing the value of is_false\n",
    "print(type(is_false))  # Printing the data type of is_false"
   ]
  },
  {
   "cell_type": "code",
   "execution_count": 55,
   "metadata": {},
   "outputs": [
    {
     "name": "stdout",
     "output_type": "stream",
     "text": [
      "John\n",
      "<class 'str'>\n",
      "25\n",
      "<class 'str'>\n"
     ]
    }
   ],
   "source": [
    "# Example of string data type\n",
    "name = \"John\"\n",
    "age = \"25\"\n",
    "\n",
    "print(name)  # Printing the value of name\n",
    "print(type(name))  # Printing the data type of name\n",
    "\n",
    "print(age)  # Printing the value of age\n",
    "print(type(age))  # Printing the data type of age"
   ]
  },
  {
   "cell_type": "code",
   "execution_count": 56,
   "metadata": {},
   "outputs": [
    {
     "name": "stdout",
     "output_type": "stream",
     "text": [
      "[1, 2, 3, 4, 5]\n",
      "<class 'list'>\n",
      "['apple', 'banana', 'cherry']\n",
      "<class 'list'>\n"
     ]
    }
   ],
   "source": [
    "# Example of list data type\n",
    "numbers = [1, 2, 3, 4, 5]\n",
    "fruits = [\"apple\", \"banana\", \"cherry\"]\n",
    "\n",
    "print(numbers)  # Printing the value of numbers\n",
    "print(type(numbers))  # Printing the data type of numbers\n",
    "\n",
    "print(fruits)  # Printing the value of fruits\n",
    "print(type(fruits))  # Printing the data type of fruits"
   ]
  },
  {
   "cell_type": "code",
   "execution_count": 57,
   "metadata": {},
   "outputs": [
    {
     "name": "stdout",
     "output_type": "stream",
     "text": [
      "(10, 20)\n",
      "<class 'tuple'>\n",
      "('red', 'green', 'blue')\n",
      "<class 'tuple'>\n"
     ]
    }
   ],
   "source": [
    "# Example of tuple data type\n",
    "coordinates = (10, 20)\n",
    "colors = (\"red\", \"green\", \"blue\")\n",
    "\n",
    "print(coordinates)  # Printing the value of coordinates\n",
    "print(type(coordinates))  # Printing the data type of coordinates\n",
    "\n",
    "print(colors)  # Printing the value of colors\n",
    "print(type(colors))  # Printing the data type of colors"
   ]
  },
  {
   "cell_type": "code",
   "execution_count": 58,
   "metadata": {},
   "outputs": [
    {
     "name": "stdout",
     "output_type": "stream",
     "text": [
      "{1, 2, 3, 4, 5}\n",
      "<class 'set'>\n",
      "{'cherry', 'banana', 'apple'}\n",
      "<class 'set'>\n"
     ]
    }
   ],
   "source": [
    "# Example of set data type\n",
    "numbers = {1, 2, 3, 4, 5}\n",
    "fruits = {\"apple\", \"banana\", \"cherry\"}\n",
    "\n",
    "print(numbers)  # Printing the value of numbers\n",
    "print(type(numbers))  # Printing the data type of numbers\n",
    "\n",
    "print(fruits)  # Printing the value of fruits\n",
    "print(type(fruits))  # Printing the data type of fruits"
   ]
  },
  {
   "cell_type": "code",
   "execution_count": 59,
   "metadata": {},
   "outputs": [
    {
     "name": "stdout",
     "output_type": "stream",
     "text": [
      "{'name': 'Alice', 'age': 20, 'gender': 'female'}\n",
      "<class 'dict'>\n",
      "{'name': 'Bob', 'age': 22, 'gender': 'male'}\n",
      "<class 'dict'>\n",
      "{'name': 'Charlie', 'age': 21, 'gender': 'male'}\n",
      "<class 'dict'>\n"
     ]
    }
   ],
   "source": [
    "# Example of dictionary data type\n",
    "student1 = {'name': 'Alice', 'age': 20, 'gender': 'female'}\n",
    "student2 = {'name': 'Bob', 'age': 22, 'gender': 'male'}\n",
    "student3 = dict(name='Charlie', age=21, gender='male')\n",
    "\n",
    "print(student1)  # Printing the value of student1\n",
    "print(type(student1))  # Printing the data type of student1\n",
    "\n",
    "print(student2)  # Printing the value of student2\n",
    "print(type(student2))  # Printing the data type of student2\n",
    "\n",
    "print(student3)  # Printing the value of student3\n",
    "print(type(student3))  # Printing the data type of student3"
   ]
  },
  {
   "attachments": {},
   "cell_type": "markdown",
   "metadata": {},
   "source": [
    "### Variables, operators, and expressions\n",
    "In Python, a variable is a named location in the computer's memory where data can be stored. It acts as a container that holds a value, which can be of various data types such as integers, floats, strings, and more. Variables are used to store and manipulate data in a program.\n",
    "\n",
    "To create a variable in Python, you need to choose a name for the variable and use the assignment operator (=) to assign a value to it. For example:"
   ]
  },
  {
   "cell_type": "code",
   "execution_count": 60,
   "metadata": {},
   "outputs": [],
   "source": [
    "# Variable assignment\n",
    "x = 5\n",
    "y = 3.2\n",
    "name = \"Alice\""
   ]
  },
  {
   "attachments": {},
   "cell_type": "markdown",
   "metadata": {},
   "source": [
    "In this example, `x`, `y`, and `name` are the names of the variables, and `5`, `3.2`, and `\"Alice\"` are the values assigned to them, respectively."
   ]
  },
  {
   "attachments": {},
   "cell_type": "markdown",
   "metadata": {},
   "source": [
    "Python has a few rules and conventions for naming variables:\n",
    "\n",
    "- Variable names must start with a letter (a-z, A-Z) or an underscore (_), and can be followed by letters, digits (0-9), or underscores.\n",
    "- Variable names are case-sensitive, so x and X are considered as different variables.\n",
    "- Variable names should be descriptive and meaningful, indicating the purpose or content of the data they store.\n",
    "- Python has reserved words, such as if, else, while, etc., which cannot be used as variable names.\n",
    "\n",
    "Once a variable is created, its value can be accessed, modified, and used in expressions throughout the program. For example:"
   ]
  },
  {
   "cell_type": "code",
   "execution_count": 61,
   "metadata": {},
   "outputs": [
    {
     "name": "stdout",
     "output_type": "stream",
     "text": [
      "8.2\n"
     ]
    }
   ],
   "source": [
    "# Variable usage\n",
    "x = 5\n",
    "y = 3.2\n",
    "z = x + y\n",
    "print(z)  # Printing the value of z, which is 8.2"
   ]
  },
  {
   "attachments": {},
   "cell_type": "markdown",
   "metadata": {},
   "source": [
    "In this example, the values of `x` and `y` are used in an expression to calculate the sum, which is then stored in the variable `z` and printed to the terminal.\n",
    "\n",
    "Variables are an essential concept in programming as they allow for the storage and manipulation of data, making it possible to create dynamic and interactive programs."
   ]
  },
  {
   "attachments": {},
   "cell_type": "markdown",
   "metadata": {},
   "source": [
    "Operators are symbols or special characters in Python that are used to perform operations on values and variables. Here are some common types of operators in Python:\n",
    "1. Arithmetic Operators:\n",
    "    - `Addition (+)`: Adds two values.\n",
    "    - `Subtraction (-)`: Subtracts the right-hand operand from the left-hand operand.\n",
    "    - `Multiplication (*)`: Multiplies two values.\n",
    "    - `Division (/)`: Divides the left-hand operand by the right-hand operand.\n",
    "    - `Modulus (%)`: Returns the remainder of the division between two values.\n",
    "    - `Exponentiation (**)`: Raises a value to a given power.\n",
    "\n",
    "2. Comparison Operators:\n",
    "    - `Equal to (==)`: Checks if two values are equal.\n",
    "    - `Not equal to (!=)`: Checks if two values are not equal.\n",
    "    - `Greater than (>)`: Checks if the left-hand operand is greater than the right-hand operand.\n",
    "    - `Less than (<)`: Checks if the left-hand operand is less than the right-hand operand.\n",
    "    - `Greater than or equal to (>=)`: Checks if the left-hand operand is greater than or equal to the right-hand operand.\n",
    "    - `Less than or equal to (<=)`: Checks if the left-hand operand is less than or equal to the right-hand operand.\n",
    "\n",
    "3. Logical Operators:\n",
    "    - `Logical AND (and)`: Returns True if both operands are True, otherwise False.\n",
    "    - `Logical OR (or)`: Returns True if at least one operand is True, otherwise False.\n",
    "    - `Logical NOT (not)`: Returns the opposite of the operand's boolean value.\n",
    "\n",
    "4. Assignment Operators:\n",
    "    - `Assignment (=)`: Assigns a value to a variable.\n",
    "    - `Addition assignment (+=)`: Adds a value to the variable and assigns the result back to the variable.\n",
    "    - `Subtraction assignment (-=)`: Subtracts a value from the variable and assigns the result back to the variable.\n",
    "    - `Multiplication assignment (*=)`: Multiplies the variable by a value and assigns the result back to the variable.\n",
    "    - `Division assignment (/=)`: Divides the variable by a value and assigns the result back to the variable.\n",
    "\n",
    "5. Other Operators:\n",
    "    - `String concatenation (+)`: Concatenates two strings.\n",
    "    - `Membership (in)`: Returns True if a value is found in a sequence, such as a list or a string.\n",
    "    - `Identity (is)`: Returns True if two operands refer to the same object in memory.\n",
    "    - `Indexing ([])`: Accesses an element in a sequence by its index."
   ]
  },
  {
   "cell_type": "code",
   "execution_count": 68,
   "metadata": {},
   "outputs": [
    {
     "name": "stdout",
     "output_type": "stream",
     "text": [
      "The sum of 5 and 3 is 8\n",
      "The result of 10 minus 5 is 5\n",
      "The product of 2 and 3 is 6\n",
      "The quotient of 10 divided by 3 is 3.3333333333333335\n",
      "The remainder of 10 divided by 3 is 1\n",
      "2 raised to the power of 3 is 8\n"
     ]
    }
   ],
   "source": [
    "# Addition\n",
    "a = 5\n",
    "b = 3\n",
    "c = a + b\n",
    "print(f\"The sum of {a} and {b} is {c}\")  # Output: The sum of 5 and 3 is 8\n",
    "\n",
    "# Subtraction\n",
    "a = 10\n",
    "b = 5\n",
    "c = a - b\n",
    "print(f\"The result of {a} minus {b} is {c}\")  # Output: The result of 10 minus 5 is 5\n",
    "\n",
    "# Multiplication\n",
    "a = 2\n",
    "b = 3\n",
    "c = a * b\n",
    "print(f\"The product of {a} and {b} is {c}\")  # Output: The product of 2 and 3 is 6\n",
    "\n",
    "# Division\n",
    "a = 10\n",
    "b = 3\n",
    "c = a / b\n",
    "print(f\"The quotient of {a} divided by {b} is {c}\")  # Output: The quotient of 10 divided by 3 is 3.3333333333333335\n",
    "\n",
    "# Modulus\n",
    "a = 10\n",
    "b = 3\n",
    "c = a % b\n",
    "print(f\"The remainder of {a} divided by {b} is {c}\")  # Output: The remainder of 10 divided by 3 is 1\n",
    "\n",
    "# Exponentiation\n",
    "a = 2\n",
    "b = 3\n",
    "c = a ** b\n",
    "print(f\"{a} raised to the power of {b} is {c}\")  # Output: 2 raised to the power of 3 is 8\n"
   ]
  },
  {
   "cell_type": "code",
   "execution_count": 69,
   "metadata": {},
   "outputs": [
    {
     "name": "stdout",
     "output_type": "stream",
     "text": [
      "Is 5 equal to 5? True\n",
      "Is 5 not equal to 3? True\n",
      "Is 10 greater than 5? True\n",
      "Is 5 less than 10? True\n",
      "Is 10 greater than or equal to 5? True\n",
      "Is 5 less than or equal to 10? True\n"
     ]
    }
   ],
   "source": [
    "# Equal to\n",
    "a = 5\n",
    "b = 5\n",
    "c = a == b\n",
    "print(f\"Is {a} equal to {b}? {c}\")  # Output: Is 5 equal to 5? True\n",
    "\n",
    "# Not equal to\n",
    "a = 5\n",
    "b = 3\n",
    "c = a != b\n",
    "print(f\"Is {a} not equal to {b}? {c}\")  # Output: Is 5 not equal to 3? True\n",
    "\n",
    "# Greater than\n",
    "a = 10\n",
    "b = 5\n",
    "c = a > b\n",
    "print(f\"Is {a} greater than {b}? {c}\")  # Output: Is 10 greater than 5? True\n",
    "\n",
    "# Less than\n",
    "a = 5\n",
    "b = 10\n",
    "c = a < b\n",
    "print(f\"Is {a} less than {b}? {c}\")  # Output: Is 5 less than 10? True\n",
    "\n",
    "# Greater than or equal to\n",
    "a = 10\n",
    "b = 5\n",
    "c = a >= b\n",
    "print(f\"Is {a} greater than or equal to {b}? {c}\")  # Output: Is 10 greater than or equal to 5? True\n",
    "\n",
    "# Less than or equal to\n",
    "a = 5\n",
    "b = 10\n",
    "c = a <= b\n",
    "print(f\"Is {a} less than or equal to {b}? {c}\")  # Output: Is 5 less than or equal to 10? True\n"
   ]
  },
  {
   "cell_type": "code",
   "execution_count": 70,
   "metadata": {},
   "outputs": [
    {
     "name": "stdout",
     "output_type": "stream",
     "text": [
      "Is True AND False? False\n",
      "Is True OR False? True\n",
      "Is NOT True? False\n"
     ]
    }
   ],
   "source": [
    "# Logical AND\n",
    "a = True\n",
    "b = False\n",
    "c = a and b\n",
    "print(f\"Is {a} AND {b}? {c}\")  # Output: Is True AND False? False\n",
    "\n",
    "# Logical OR\n",
    "a = True\n",
    "b = False\n",
    "c = a or b\n",
    "print(f\"Is {a} OR {b}? {c}\")  # Output: Is True OR False? True\n",
    "\n",
    "# Logical NOT\n",
    "a = True\n",
    "c = not a\n",
    "print(f\"Is NOT {a}? {c}\")  # Output: Is NOT True? False"
   ]
  },
  {
   "cell_type": "code",
   "execution_count": 71,
   "metadata": {},
   "outputs": [
    {
     "name": "stdout",
     "output_type": "stream",
     "text": [
      "Assigning 5 to b: 5\n",
      "Adding 3 to 8: 8\n",
      "Subtracting 5 from 5: 5\n",
      "Multiplying 6 by 3: 6\n",
      "Dividing 3.3333333333333335 by 3: 3.3333333333333335\n",
      "Calculating 1 modulo 3: 1\n",
      "Raising 8 to the power of 3: 8\n"
     ]
    }
   ],
   "source": [
    "# Assignment\n",
    "a = 5\n",
    "b = a\n",
    "print(f\"Assigning {a} to b: {b}\")  # Output: Assigning 5 to b: 5\n",
    "\n",
    "# Addition assignment\n",
    "a = 5\n",
    "a += 3\n",
    "print(f\"Adding 3 to {a}: {a}\")  # Output: Adding 3 to 5: 8\n",
    "\n",
    "# Subtraction assignment\n",
    "a = 10\n",
    "a -= 5\n",
    "print(f\"Subtracting 5 from {a}: {a}\")  # Output: Subtracting 5 from 10: 5\n",
    "\n",
    "# Multiplication assignment\n",
    "a = 2\n",
    "a *= 3\n",
    "print(f\"Multiplying {a} by 3: {a}\")  # Output: Multiplying 2 by 3: 6\n",
    "\n",
    "# Division assignment\n",
    "a = 10\n",
    "a /= 3\n",
    "print(f\"Dividing {a} by 3: {a}\")  # Output: Dividing 10 by 3: 3.3333333333333335\n",
    "\n",
    "# Modulus assignment\n",
    "a = 10\n",
    "a %= 3\n",
    "print(f\"Calculating {a} modulo 3: {a}\")  # Output: Calculating 10 modulo 3: 1\n",
    "\n",
    "# Exponentiation assignment\n",
    "a = 2\n",
    "a **= 3\n",
    "print(f\"Raising {a} to the power of 3: {a}\")  # Output: Raising 2 to the power of 3: 8\n"
   ]
  }
 ],
 "metadata": {
  "kernelspec": {
   "display_name": "Python 3",
   "language": "python",
   "name": "python3"
  },
  "language_info": {
   "codemirror_mode": {
    "name": "ipython",
    "version": 3
   },
   "file_extension": ".py",
   "mimetype": "text/x-python",
   "name": "python",
   "nbconvert_exporter": "python",
   "pygments_lexer": "ipython3",
   "version": "3.9.1"
  },
  "orig_nbformat": 4
 },
 "nbformat": 4,
 "nbformat_minor": 2
}
