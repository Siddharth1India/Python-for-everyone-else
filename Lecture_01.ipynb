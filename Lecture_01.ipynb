{
 "cells": [
  {
   "attachments": {},
   "cell_type": "markdown",
   "metadata": {},
   "source": [
    "# 🐍 Introduction to Python\n",
    "In this repo, I will be explaining stuff in basic theory and more code approach but first, let's understand basic programming."
   ]
  },
  {
   "attachments": {},
   "cell_type": "markdown",
   "metadata": {},
   "source": [
    "## 💻 What is programming in layman's terms❓ \n",
    "Programming is like giving instructions to a computer to perform a task. Just like how we give instructions to our friends or family members, we give instructions to a computer using a special language that it understands. This language is called a programming language, and it allows us to communicate with the computer and tell it what to do.\n",
    "\n",
    "Think of a programming language as a set of rules or guidelines that we follow to write code, which is a series of instructions for the computer to execute. These instructions can be as simple as adding two numbers together or as complex as creating a website or a video game.\n",
    "\n",
    "Programming is like solving a puzzle or building with blocks. We use different tools and techniques to create a sequence of instructions that the computer can understand and follow. These instructions can be combined in various ways to create different outcomes or achieve specific goals.\n",
    "\n",
    "Programming is an essential skill in today's technology-driven world, as it allows us to create software applications, websites, and other digital tools that make our lives easier and more convenient. It's like having a superpower that enables us to create and shape the digital world around us!\n",
    "\n",
    "In summary, programming is the process of giving instructions to a computer using a programming language to create software applications or other digital tools. It involves using a set of rules or guidelines to write code, which is a series of instructions that the computer can understand and execute."
   ]
  },
  {
   "attachments": {},
   "cell_type": "markdown",
   "metadata": {},
   "source": [
    "## 📚 But why should I learn programming❓\n",
    "<img src='./static/python_img1.jpg' width='50%'><br><br>\n",
    "Below are the reasons listed by GPT when asked `why one should learn programming?`.\n",
    "1. Problem-solving skills <br>\n",
    "Programming involves breaking down complex problems into smaller, more manageable tasks, and then solving them step by step. Learning programming helps develop critical thinking, logical reasoning, and creative problem-solving skills that are valuable not only in programming but also in many other areas of life.\n",
    "\n",
    "2. Career opportunities <br>\n",
    "Programming is in high demand across various industries, including software development, web development, data science, artificial intelligence, cybersecurity, and many more. Learning programming opens up a wide range of career opportunities and can boost your employability in today's competitive job market.\n",
    "\n",
    "3. Creativity and innovation <br>\n",
    "Programming allows you to create your own software applications, websites, games, and other digital tools. It provides you with the ability to turn your ideas into reality, and gives you a platform for expressing your creativity and innovating new solutions to real-world problems.\n",
    "\n",
    "4. Automation and efficiency <br>\n",
    "Programming enables you to automate repetitive tasks, streamline processes, and increase efficiency. By writing code to perform routine tasks, you can save time and effort, and optimize workflows in various domains, such as data analysis, finance, marketing, and more.\n",
    "\n",
    "5. Technology literacy <br>\n",
    "Programming is an essential skill for understanding and working with modern technology. As technology continues to evolve rapidly, knowing how to program gives you a solid foundation for understanding and adapting to new technologies, and staying relevant in the digital age.\n",
    "\n",
    "6. Personal empowerment <br>\n",
    "Learning programming empowers you with the ability to create, innovate, and make a positive impact on the world around you. It gives you the confidence to tackle challenges, solve problems, and achieve your goals, both personally and professionally.\n",
    "\n",
    "7. Lifelong learning <br>\n",
    "Programming is a constantly evolving field, and learning programming is a lifelong journey. It encourages a growth mindset and fosters continuous learning, adaptability, and resilience, which are essential skills in today's fast-paced and ever-changing world.\n",
    "\n",
    "In summary, learning programming offers a multitude of benefits, including improved problem-solving skills, increased career opportunities, opportunities for creativity and innovation, automation and efficiency, enhanced technology literacy, personal empowerment, and a mindset for lifelong learning. It's a valuable skill that can open doors and empower you in numerous ways, both in your professional and personal life."
   ]
  },
  {
   "attachments": {},
   "cell_type": "markdown",
   "metadata": {},
   "source": [
    "## 🐍 What is Python and 🤔 why it is good for beginners❓\n",
    "Let's make clear statement first, you can start with any language of your choice as long as language is popular because popular languages have big enough community to solve your doubts and good amount of resources to understand and learn things. Python is just language of my choice and that is the reason of this repo.\n",
    "\n",
    "Python is a popular, high-level, interpreted programming language that is widely used for a variety of applications, including web development, scientific computing, data analysis, machine learning, artificial intelligence, and more. Python is known for its simplicity, readability, and versatility, which makes it an excellent choice for beginners who are new to programming. Here are some reasons why Python is considered a great language for beginners:\n",
    "\n",
    "1. 🐥 Easy to read and write\n",
    "Python has a clean and easy-to-understand syntax that resembles human language, making it highly readable and writable. Python's simple and concise syntax allows beginners to write code that is easy to understand and debug, making it an ideal language for learning the fundamentals of programming.\n",
    "\n",
    "2. 👨‍🏫 Large and supportive community\n",
    "Python has a large and active community of developers who contribute to its development and provide extensive documentation, tutorials, and resources. This community-driven aspect of Python makes it beginner-friendly, as there are ample resources available for learning, troubleshooting, and getting help.\n",
    "\n",
    "3. 📚 Extensive libraries and frameworks\n",
    "Python has a rich ecosystem of libraries and frameworks that provide ready-to-use solutions for common tasks, such as data manipulation, web development, scientific computing, and machine learning. These libraries and frameworks simplify the coding process and enable beginners to build complex applications without starting from scratch.\n",
    "\n",
    "4. 🔨 Versatility and wide range of applications\n",
    "Python is a versatile language that can be used for a wide range of applications, from simple scripts to complex applications. Python is widely used in various domains, including web development, data science, scientific computing, artificial intelligence, machine learning, and more, making it a versatile language that offers ample opportunities for beginners to explore and apply their programming skills.\n",
    "\n",
    "5. 🤝 Strong community support and job opportunities\n",
    "Python has a strong community support and a vast job market. Python is one of the most in-demand programming languages in the job market, with ample job opportunities in various industries. Learning Python can open doors to a wide range of career opportunities, making it a lucrative choice for beginners who are looking to start a career in programming.\n",
    "\n",
    "6. ⏩ Quick feedback loop\n",
    "Python's interpreter allows beginners to quickly see the results of their code, making the learning process more interactive and engaging. Python's dynamic nature and interactive interpreter allow beginners to experiment and learn in a more hands-on manner, which can accelerate the learning process.\n",
    "\n",
    "7. 👨‍🎓 Beginner-friendly development environments\n",
    "Python has several beginner-friendly development environments, such as IDLE (Python's built-in IDE), Jupyter Notebooks, and PyCharm, which provide a user-friendly interface for writing, running, and debugging Python code. These environments make it easier for beginners to get started with coding and develop their programming skills.\n",
    "\n",
    "In summary, Python is an excellent choice for beginners due to its easy-to-read syntax, extensive community support, vast library ecosystem, versatility, wide range of applications, strong job market, quick feedback loop, and beginner-friendly development environments. Python's simplicity, readability, and versatility make it a great language for beginners to learn and start their journey into the world of programming."
   ]
  },
  {
   "attachments": {},
   "cell_type": "markdown",
   "metadata": {},
   "source": [
    "> **__NOTE__**: If you are beginner, don't worry about setting up local environment for Python programming. Just head to [Google Colab](https://colab.research.google.com), create new notebook and start writing code. "
   ]
  },
  {
   "attachments": {},
   "cell_type": "markdown",
   "metadata": {},
   "source": [
    "## Basics of Python\n",
    "### First code\n",
    "\n",
    "We will follow treditional method of learning how to program by writing our first very simple program which prints `Hello, World!` on screen."
   ]
  },
  {
   "cell_type": "code",
   "execution_count": 1,
   "metadata": {},
   "outputs": [
    {
     "name": "stdout",
     "output_type": "stream",
     "text": [
      "Hello, World!\n"
     ]
    }
   ],
   "source": [
    "print(\"Hello, World!\")"
   ]
  },
  {
   "attachments": {},
   "cell_type": "markdown",
   "metadata": {},
   "source": [
    "Okay, that was your first program. Seems like it is not doing much, right? Well, most beginners don't understand why we always starts with \"Hello, World!\", but that is standard and you will understand importance of `print` statement once you write enough code."
   ]
  },
  {
   "attachments": {},
   "cell_type": "markdown",
   "metadata": {},
   "source": [
    "### Comments in Python\n",
    "Comments in Python are used to add human-readable explanations or notes to the code that are not executed by the interpreter. They are used to provide documentation, add explanations, or disable specific lines of code temporarily for testing or debugging purposes. Comments are ignored by the Python interpreter and do not affect the execution of the program.\n",
    "\n",
    "In Python, there are two types of comments:\n",
    "\n",
    "1. Single-line comments\n",
    "Single-line comments start with the \"#\" symbol and continue until the end of the line. Anything written after the \"#\" symbol on the same line is considered a comment and is ignored by the interpreter. For example:\n",
    "```\n",
    "# This is a single-line comment in Python\n",
    "print(\"Hello, world!\")\n",
    "```\n",
    "In the above example, the comment \"This is a single-line comment in Python\" is added after the \"#\" symbol, and it does not affect the execution of the \"print\" statement.\n",
    "2. Multi-line comments\n",
    "Multi-line comments, also known as docstrings, are used to write comments that span across multiple lines. Multi-line comments are enclosed in triple quotes (''' or \"\"\") at the beginning and end of the comment block. For example:\n",
    "```\n",
    "\"\"\"\n",
    "This is a multi-line comment in Python\n",
    "It can span across multiple lines\n",
    "\"\"\"\n",
    "print(\"Hello, world!\")\n",
    "\n",
    "```\n",
    "In the above example, the comment \"This is a multi-line comment in Python\" is written within triple quotes and spans across multiple lines. It is ignored by the interpreter and does not affect the execution of the \"print\" statement.\n",
    "\n",
    "Comments are an important part of writing clean and maintainable code. They provide explanations and documentation that can help other programmers understand the code and make it easier to debug and troubleshoot. It is good practice to add comments to your Python code to make it more understandable and maintainable.\n"
   ]
  },
  {
   "cell_type": "code",
   "execution_count": 2,
   "metadata": {},
   "outputs": [
    {
     "name": "stdout",
     "output_type": "stream",
     "text": [
      "Hello, world!\n"
     ]
    }
   ],
   "source": [
    "# This is a single-line comment in Python\n",
    "print(\"Hello, world!\")"
   ]
  },
  {
   "cell_type": "code",
   "execution_count": 3,
   "metadata": {},
   "outputs": [
    {
     "name": "stdout",
     "output_type": "stream",
     "text": [
      "Hello, world!\n"
     ]
    }
   ],
   "source": [
    "\"\"\"\n",
    "This is a multi-line comment in Python\n",
    "It can span across multiple lines\n",
    "\"\"\"\n",
    "print(\"Hello, world!\")\n"
   ]
  }
 ],
 "metadata": {
  "kernelspec": {
   "display_name": "Python 3",
   "language": "python",
   "name": "python3"
  },
  "language_info": {
   "codemirror_mode": {
    "name": "ipython",
    "version": 3
   },
   "file_extension": ".py",
   "mimetype": "text/x-python",
   "name": "python",
   "nbconvert_exporter": "python",
   "pygments_lexer": "ipython3",
   "version": "3.9.1"
  },
  "orig_nbformat": 4
 },
 "nbformat": 4,
 "nbformat_minor": 2
}
