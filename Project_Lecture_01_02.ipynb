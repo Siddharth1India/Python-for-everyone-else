{
 "cells": [
  {
   "attachments": {},
   "cell_type": "markdown",
   "metadata": {},
   "source": [
    "# Minor project - 01"
   ]
  },
  {
   "attachments": {},
   "cell_type": "markdown",
   "metadata": {},
   "source": [
    "Let's create number guessing game!<br>\n",
    "This project will allow us to practice the concepts covered in Lecture 1 (Introduction to Python) and Lecture 2 (Control Flow and Loops)."
   ]
  },
  {
   "attachments": {},
   "cell_type": "markdown",
   "metadata": {},
   "source": [
    "### Step 1: \n",
    "Let's setup initial python file. First we will import module named `random` (don't worry, there is entire lecture planned for external libraries, currently we will just use it for small part)"
   ]
  },
  {
   "cell_type": "code",
   "execution_count": 1,
   "metadata": {},
   "outputs": [
    {
     "name": "stdout",
     "output_type": "stream",
     "text": [
      "Welcome to the Number Guessing Game!\n",
      "I'm thinking of a number between 1 and 100.\n"
     ]
    }
   ],
   "source": [
    "import random\n",
    "\n",
    "print(\"Welcome to the Number Guessing Game!\")\n",
    "print(\"I'm thinking of a number between 1 and 100.\")"
   ]
  },
  {
   "attachments": {},
   "cell_type": "markdown",
   "metadata": {},
   "source": [
    "### Step 2: Generate a Random Number\n",
    "\n",
    "Here, we generate a random number between a specified range using the `random` module."
   ]
  },
  {
   "cell_type": "code",
   "execution_count": 2,
   "metadata": {},
   "outputs": [],
   "source": [
    "secret_number = random.randint(1, 100)"
   ]
  },
  {
   "attachments": {},
   "cell_type": "markdown",
   "metadata": {},
   "source": [
    "### Step 3: Get User Input\n",
    "\n",
    "Prompt the user to enter their guess for the secret number using the input() function."
   ]
  },
  {
   "cell_type": "code",
   "execution_count": 3,
   "metadata": {},
   "outputs": [],
   "source": [
    "guess = input(\"Take a guess: \")"
   ]
  },
  {
   "attachments": {},
   "cell_type": "markdown",
   "metadata": {},
   "source": [
    "### Step 4: Validate User Input\n",
    "\n",
    "Check if the user's input is a valid integer using the isdigit() method."
   ]
  },
  {
   "cell_type": "code",
   "execution_count": 4,
   "metadata": {},
   "outputs": [],
   "source": [
    "if not guess.isdigit():\n",
    "    print(\"Invalid input. Please enter a valid number.\")"
   ]
  },
  {
   "attachments": {},
   "cell_type": "markdown",
   "metadata": {},
   "source": [
    "### Step 5: Compare User's Guess with Secret Number\n",
    "\n",
    "Compare the user's guess with the secret number using conditional statements and provide appropriate feedback."
   ]
  },
  {
   "cell_type": "code",
   "execution_count": 5,
   "metadata": {},
   "outputs": [
    {
     "name": "stdout",
     "output_type": "stream",
     "text": [
      "Too low! Guess higher.\n"
     ]
    }
   ],
   "source": [
    "guess = int(guess)  # Convert user input to integer\n",
    "\n",
    "if guess == secret_number:\n",
    "    print(\"Congratulations! You guessed the correct number.\")\n",
    "elif guess < secret_number:\n",
    "    print(\"Too low! Guess higher.\")\n",
    "else:\n",
    "    print(\"Too high! Guess lower.\")"
   ]
  },
  {
   "attachments": {},
   "cell_type": "markdown",
   "metadata": {},
   "source": [
    "### Step 6: Allow Multiple Guesses\n",
    "\n",
    "Implement a loop to allow the user to make multiple guesses until they guess the correct number or reach a maximum number of attempts. Keep track of the number of attempts made."
   ]
  },
  {
   "cell_type": "code",
   "execution_count": 6,
   "metadata": {},
   "outputs": [],
   "source": [
    "max_attempts = 5\n",
    "attempts = 1\n",
    "\n",
    "while attempts < max_attempts:\n",
    "    # Code for Step 3, Step 4, and Step 5 goes here\n",
    "    \n",
    "    attempts += 1"
   ]
  },
  {
   "attachments": {},
   "cell_type": "markdown",
   "metadata": {},
   "source": [
    "### Step 7: Game Over\n",
    "\n",
    "Display a failure message if the user runs out of attempts without guessing the correct number."
   ]
  },
  {
   "cell_type": "code",
   "execution_count": 7,
   "metadata": {},
   "outputs": [
    {
     "name": "stdout",
     "output_type": "stream",
     "text": [
      "Game Over! You ran out of attempts.\n",
      "The secret number was: 76\n"
     ]
    }
   ],
   "source": [
    "print(\"Game Over! You ran out of attempts.\")\n",
    "print(\"The secret number was:\", secret_number)"
   ]
  },
  {
   "attachments": {},
   "cell_type": "markdown",
   "metadata": {},
   "source": [
    "## Complete Code\n",
    "\n",
    "Here's the complete code combining all the steps:"
   ]
  },
  {
   "cell_type": "code",
   "execution_count": 8,
   "metadata": {},
   "outputs": [
    {
     "name": "stdout",
     "output_type": "stream",
     "text": [
      "Welcome to the Number Guessing Game!\n",
      "I'm thinking of a number between 1 and 100.\n",
      "Too low! Guess higher.\n",
      "Too high! Guess lower.\n",
      "Too high! Guess lower.\n",
      "Too high! Guess lower.\n",
      "Game Over! You ran out of attempts.\n",
      "The secret number was: 36\n"
     ]
    }
   ],
   "source": [
    "import random\n",
    "\n",
    "print(\"Welcome to the Number Guessing Game!\")\n",
    "print(\"I'm thinking of a number between 1 and 100.\")\n",
    "\n",
    "secret_number = random.randint(1, 100)\n",
    "max_attempts = 5\n",
    "attempts = 1\n",
    "\n",
    "while attempts < max_attempts:\n",
    "    guess = input(\"Take a guess: \")\n",
    "    \n",
    "    if not guess.isdigit():\n",
    "        print(\"Invalid input. Please enter a valid number.\")\n",
    "        continue\n",
    "    \n",
    "    guess = int(guess)\n",
    "    \n",
    "    if guess == secret_number:\n",
    "        print(\"Congratulations! You guessed the correct number.\")\n",
    "        break\n",
    "    elif guess < secret_number:\n",
    "        print(\"Too low! Guess higher.\")\n",
    "    else:\n",
    "        print(\"Too high! Guess lower.\")\n",
    "    \n",
    "    attempts += 1\n",
    "\n",
    "else:\n",
    "    print(\"Game Over! You ran out of attempts.\")\n",
    "    print(\"The secret number was:\", secret_number)"
   ]
  },
  {
   "attachments": {},
   "cell_type": "markdown",
   "metadata": {},
   "source": [
    "Here, we have created simple game covering number of concepts. Keep playing. See you in next lecture, till than, Happy Coding!"
   ]
  }
 ],
 "metadata": {
  "kernelspec": {
   "display_name": "Python 3",
   "language": "python",
   "name": "python3"
  },
  "language_info": {
   "codemirror_mode": {
    "name": "ipython",
    "version": 3
   },
   "file_extension": ".py",
   "mimetype": "text/x-python",
   "name": "python",
   "nbconvert_exporter": "python",
   "pygments_lexer": "ipython3",
   "version": "3.9.1"
  },
  "orig_nbformat": 4
 },
 "nbformat": 4,
 "nbformat_minor": 2
}
