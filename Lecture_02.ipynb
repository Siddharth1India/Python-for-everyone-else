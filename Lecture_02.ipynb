{
 "cells": [
  {
   "attachments": {},
   "cell_type": "markdown",
   "metadata": {},
   "source": [
    "# 🐍 Control Flow and Loops\n",
    "Alright, we have learned about basics, now let's make our programs more dynamic by adding control flows and loops (don't worry, you will master it by the end of this lecture)."
   ]
  },
  {
   "attachments": {},
   "cell_type": "markdown",
   "metadata": {},
   "source": [
    "In programming 💻, control flow refers to the order in which statements are executed in a program. It allows us to make decisions 🧠 and perform actions based on certain conditions. Control flow constructs, such as conditional statements and loops, are essential tools for controlling the flow of execution and making programs more dynamic and interactive."
   ]
  },
  {
   "attachments": {},
   "cell_type": "markdown",
   "metadata": {},
   "source": [
    "Conditional statements, including if, elif, and else, enable us to execute different blocks of code based on specific conditions. For example, we can use an if statement to execute a block of code only if a certain condition is true ✅. If the condition is false ❌, the code inside the if block is skipped. We can use if-else statements to provide alternative actions to be taken when the condition is not met. Additionally, if-elif-else statements allow us to check multiple conditions sequentially and execute a specific block of code based on the first condition that is true."
   ]
  },
  {
   "attachments": {},
   "cell_type": "markdown",
   "metadata": {},
   "source": [
    "Looping constructs, such as for loops and while loops, allow us to repeat a block of code multiple times. For loops are particularly useful when we want to iterate over a sequence of items, such as a list or string. We can execute a block of code for each item in the sequence. On the other hand, while loops repeat a block of code as long as a specified condition is true. The condition is checked before each iteration, and the loop continues until the condition becomes false."
   ]
  },
  {
   "attachments": {},
   "cell_type": "markdown",
   "metadata": {},
   "source": [
    "Break and continue statements provide additional control within loops. The break statement allows us to terminate a loop prematurely, stopping the execution and moving on to the next part of the program. For example, we can use it to search for a specific item in a list and stop once we find it. The continue statement, on the other hand, skips the current iteration of a loop and proceeds to the next iteration. It is useful when we want to skip certain elements or conditions within a loop but continue with the rest of the iterations."
   ]
  },
  {
   "attachments": {},
   "cell_type": "markdown",
   "metadata": {},
   "source": [
    "## Real life examples\n",
    "In real-life scenarios, control flow is used for decision-making and repetitive tasks. For instance, we can use control flow to check weather conditions 🌧 and decide whether to take an umbrella ☔ or not. We can also apply control flow to age verification 🔞, where certain actions are allowed or restricted based on the user's age. Moreover, control flow can be used in game development 🎮, data filtering 🗃, and other areas where different actions or iterations are required based on specific conditions."
   ]
  },
  {
   "cell_type": "code",
   "execution_count": null,
   "metadata": {},
   "outputs": [],
   "source": []
  }
 ],
 "metadata": {
  "language_info": {
   "name": "python"
  },
  "orig_nbformat": 4
 },
 "nbformat": 4,
 "nbformat_minor": 2
}
