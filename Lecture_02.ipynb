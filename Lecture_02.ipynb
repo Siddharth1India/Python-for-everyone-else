{
 "cells": [
  {
   "attachments": {},
   "cell_type": "markdown",
   "metadata": {},
   "source": [
    "# 🐍 Control Flow and Loops\n",
    "Alright, we have learned about basics, now let's make our programs more dynamic by adding control flows and loops (don't worry, you will master it by the end of this lecture)."
   ]
  },
  {
   "attachments": {},
   "cell_type": "markdown",
   "metadata": {},
   "source": [
    "In programming 💻, control flow refers to the order in which statements are executed in a program. It allows us to make decisions 🧠 and perform actions based on certain conditions. Control flow constructs, such as conditional statements and loops, are essential tools for controlling the flow of execution and making programs more dynamic and interactive."
   ]
  },
  {
   "attachments": {},
   "cell_type": "markdown",
   "metadata": {},
   "source": [
    "Conditional statements, including if, elif, and else, enable us to execute different blocks of code based on specific conditions. For example, we can use an if statement to execute a block of code only if a certain condition is true ✅. If the condition is false ❌, the code inside the if block is skipped. We can use if-else statements to provide alternative actions to be taken when the condition is not met. Additionally, if-elif-else statements allow us to check multiple conditions sequentially and execute a specific block of code based on the first condition that is true."
   ]
  },
  {
   "attachments": {},
   "cell_type": "markdown",
   "metadata": {},
   "source": [
    "Looping constructs, such as for loops and while loops, allow us to repeat a block of code multiple times. For loops are particularly useful when we want to iterate over a sequence of items, such as a list or string. We can execute a block of code for each item in the sequence. On the other hand, while loops repeat a block of code as long as a specified condition is true. The condition is checked before each iteration, and the loop continues until the condition becomes false."
   ]
  },
  {
   "attachments": {},
   "cell_type": "markdown",
   "metadata": {},
   "source": [
    "Break and continue statements provide additional control within loops. The break statement allows us to terminate a loop prematurely, stopping the execution and moving on to the next part of the program. For example, we can use it to search for a specific item in a list and stop once we find it. The continue statement, on the other hand, skips the current iteration of a loop and proceeds to the next iteration. It is useful when we want to skip certain elements or conditions within a loop but continue with the rest of the iterations."
   ]
  },
  {
   "attachments": {},
   "cell_type": "markdown",
   "metadata": {},
   "source": [
    "## Real life examples\n",
    "In real-life scenarios, control flow is used for decision-making and repetitive tasks. For instance, we can use control flow to check weather conditions 🌧 and decide whether to take an umbrella ☔ or not. We can also apply control flow to age verification 🔞, where certain actions are allowed or restricted based on the user's age. Moreover, control flow can be used in game development 🎮, data filtering 🗃, and other areas where different actions or iterations are required based on specific conditions."
   ]
  },
  {
   "attachments": {},
   "cell_type": "markdown",
   "metadata": {},
   "source": [
    "Here is an example for `if` condition:"
   ]
  },
  {
   "cell_type": "code",
   "execution_count": 1,
   "metadata": {},
   "outputs": [
    {
     "name": "stdout",
     "output_type": "stream",
     "text": [
      "You are eligible to vote!\n"
     ]
    }
   ],
   "source": [
    "age = 18\n",
    "\n",
    "if age >= 18:\n",
    "    print(\"You are eligible to vote!\")"
   ]
  },
  {
   "attachments": {},
   "cell_type": "markdown",
   "metadata": {},
   "source": [
    "In this example, if the age is 18 or above, the message \"You are eligible to vote!\" will be printed."
   ]
  },
  {
   "attachments": {},
   "cell_type": "markdown",
   "metadata": {},
   "source": [
    "We can also use the elif and else statements to provide alternative actions. The elif statement allows us to check additional conditions if the previous condition is not met. The else statement is used as a final option if none of the preceding conditions are true. Here's an example:"
   ]
  },
  {
   "cell_type": "code",
   "execution_count": 2,
   "metadata": {},
   "outputs": [
    {
     "name": "stdout",
     "output_type": "stream",
     "text": [
      "You can apply for a driver's license!\n"
     ]
    }
   ],
   "source": [
    "age = 16\n",
    "\n",
    "if age >= 18:\n",
    "    print(\"You are eligible to vote!\")\n",
    "elif age >= 16:\n",
    "    print(\"You can apply for a driver's license!\")\n",
    "else:\n",
    "    print(\"You are not eligible for voting or driving.\")"
   ]
  },
  {
   "attachments": {},
   "cell_type": "markdown",
   "metadata": {},
   "source": [
    "In this example, if the age is 16 or above, but less than 18, the message \"You can apply for a driver's license!\" will be printed. If the age is below 16, the message \"You are not eligible for voting or driving.\" will be printed."
   ]
  },
  {
   "attachments": {},
   "cell_type": "markdown",
   "metadata": {},
   "source": [
    "Looping constructs allow us to repeat a block of code multiple times. They are useful when we need to perform repetitive tasks or iterate over a sequence of items.\n",
    "\n",
    "The for loop is commonly used when we want to iterate over a sequence, such as a list or string. Here's an example:"
   ]
  },
  {
   "cell_type": "code",
   "execution_count": 3,
   "metadata": {},
   "outputs": [
    {
     "name": "stdout",
     "output_type": "stream",
     "text": [
      "apple\n",
      "banana\n",
      "cherry\n"
     ]
    }
   ],
   "source": [
    "fruits = [\"apple\", \"banana\", \"cherry\"]\n",
    "\n",
    "for fruit in fruits:\n",
    "    print(fruit)"
   ]
  },
  {
   "attachments": {},
   "cell_type": "markdown",
   "metadata": {},
   "source": [
    "The while loop, on the other hand, repeats a block of code as long as a condition is true. Here's an example:"
   ]
  },
  {
   "cell_type": "code",
   "execution_count": 4,
   "metadata": {},
   "outputs": [
    {
     "name": "stdout",
     "output_type": "stream",
     "text": [
      "Count: 0\n",
      "Count: 1\n",
      "Count: 2\n",
      "Count: 3\n",
      "Count: 4\n"
     ]
    }
   ],
   "source": [
    "count = 0\n",
    "\n",
    "while count < 5:\n",
    "    print(\"Count:\", count)\n",
    "    count += 1"
   ]
  },
  {
   "attachments": {},
   "cell_type": "markdown",
   "metadata": {},
   "source": [
    "The break statement allows us to exit a loop prematurely. It is useful when we want to terminate the loop based on a certain condition. Here's an example:"
   ]
  },
  {
   "cell_type": "code",
   "execution_count": 5,
   "metadata": {},
   "outputs": [
    {
     "name": "stdout",
     "output_type": "stream",
     "text": [
      "apple\n",
      "banana\n"
     ]
    }
   ],
   "source": [
    "fruits = [\"apple\", \"banana\", \"cherry\", \"orange\"]\n",
    "\n",
    "for fruit in fruits:\n",
    "    if fruit == \"cherry\":\n",
    "        break\n",
    "    print(fruit)"
   ]
  },
  {
   "attachments": {},
   "cell_type": "markdown",
   "metadata": {},
   "source": [
    "In this example, the loop stops when it encounters the \"cherry\" item, and the program moves on to the next part of the code."
   ]
  },
  {
   "attachments": {},
   "cell_type": "markdown",
   "metadata": {},
   "source": [
    "The continue statement, on the other hand, skips the current iteration of a loop and proceeds to the next iteration. It is useful when we want to skip certain elements or conditions within a loop. Here's an example:"
   ]
  },
  {
   "cell_type": "code",
   "execution_count": 6,
   "metadata": {},
   "outputs": [
    {
     "name": "stdout",
     "output_type": "stream",
     "text": [
      "1\n",
      "3\n",
      "5\n"
     ]
    }
   ],
   "source": [
    "numbers = [1, 2, 3, 4, 5]\n",
    "\n",
    "for number in numbers:\n",
    "    if number % 2 == 0:\n",
    "        continue\n",
    "    print(number)"
   ]
  },
  {
   "attachments": {},
   "cell_type": "markdown",
   "metadata": {},
   "source": [
    "In this example, the loop skips even numbers and only prints the odd numbers from the list."
   ]
  },
  {
   "attachments": {},
   "cell_type": "markdown",
   "metadata": {},
   "source": [
    "## Summary of lecture\n",
    "Here's a quick summary of what we've covered:\n",
    "\n",
    "1. Conditional statements (if, elif, else): We explored how conditional statements allow us to execute different blocks of code based on specific conditions. The if statement checks a condition and executes a block of code if the condition is true. The elif statement allows us to check additional conditions, and the else statement provides a final option if none of the preceding conditions are true.\n",
    "\n",
    "2. Looping constructs (for loop, while loop): We discussed how looping constructs allow us to repeat a block of code multiple times. The for loop is useful for iterating over a sequence of items, such as a list or string. The while loop repeats a block of code as long as a specified condition is true.\n",
    "\n",
    "3. Break and continue statements: We covered the break and continue statements, which provide additional control within loops. The break statement allows us to terminate a loop prematurely, while the continue statement skips the current iteration and proceeds to the next one.\n",
    "\n",
    "4. Using control flow to make decisions in Python programs: We emphasized how control flow enables us to make decisions and control the flow of execution in our Python programs. By combining conditional statements, looping constructs, and control flow statements, we can create programs that respond dynamically to different scenarios."
   ]
  },
  {
   "attachments": {},
   "cell_type": "markdown",
   "metadata": {},
   "source": [
    "BONUS: In next lecture, we will use all topics we learned to create simple game."
   ]
  }
 ],
 "metadata": {
  "kernelspec": {
   "display_name": "Python 3",
   "language": "python",
   "name": "python3"
  },
  "language_info": {
   "codemirror_mode": {
    "name": "ipython",
    "version": 3
   },
   "file_extension": ".py",
   "mimetype": "text/x-python",
   "name": "python",
   "nbconvert_exporter": "python",
   "pygments_lexer": "ipython3",
   "version": "3.9.1"
  },
  "orig_nbformat": 4
 },
 "nbformat": 4,
 "nbformat_minor": 2
}
